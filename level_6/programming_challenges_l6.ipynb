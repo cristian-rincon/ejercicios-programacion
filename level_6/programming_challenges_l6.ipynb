{
  "nbformat": 4,
  "nbformat_minor": 0,
  "metadata": {
    "colab": {
      "name": "programming_challenges_l6.ipynb",
      "provenance": [],
      "authorship_tag": "ABX9TyNiK2MUkIpwfO/bXe9BNkMN",
      "include_colab_link": true
    },
    "kernelspec": {
      "name": "python3",
      "display_name": "Python 3"
    }
  },
  "cells": [
    {
      "cell_type": "markdown",
      "metadata": {
        "id": "view-in-github",
        "colab_type": "text"
      },
      "source": [
        "<a href=\"https://colab.research.google.com/github/cristian-rincon/ejercicios-programacion/blob/master/level_6/programming_challenges_l6.ipynb\" target=\"_parent\"><img src=\"https://colab.research.google.com/assets/colab-badge.svg\" alt=\"Open In Colab\"/></a>"
      ]
    },
    {
      "cell_type": "markdown",
      "metadata": {
        "id": "dwwK22BFhXr3",
        "colab_type": "text"
      },
      "source": [
        "# Ejercicios de Programación - Nivel 6\n",
        "\n",
        "Sabes que el ciclo while nos permite repetir un código durante una cantidad indefinida de veces hasta que se cumple una condición o indicamos que no debe continuar. Puede ser una vez, miles o nunca y ahí radica la importancia de comprenderlo a detalle."
      ]
    },
    {
      "cell_type": "markdown",
      "metadata": {
        "id": "kk8XMkXwh8lR",
        "colab_type": "text"
      },
      "source": [
        "## Reto #1 - Suma hasta cincuenta\n",
        "\n",
        "Crea una variable que se llame total, después pide a tu usuario que ingrese un número y lo sume al valor de total. Haz que esto se repita hasta que el valor de total sea mayor a 50 y muestra el resultado en pantalla."
      ]
    },
    {
      "cell_type": "code",
      "metadata": {
        "id": "CR6b7SushCUm",
        "colab_type": "code",
        "colab": {
          "base_uri": "https://localhost:8080/",
          "height": 50
        },
        "outputId": "3c4e3559-c916-4923-f345-1e8daed61d07"
      },
      "source": [
        "total = 40\n",
        "while total < 51:\n",
        "  numero_de_usuario = int(input(\"Ingresa un número para sumarlo al total: \\n\"))\n",
        "  total += numero_de_usuario "
      ],
      "execution_count": 14,
      "outputs": [
        {
          "output_type": "stream",
          "text": [
            "Ingresa un número para sumarlo al total: \n",
            "50\n"
          ],
          "name": "stdout"
        }
      ]
    },
    {
      "cell_type": "markdown",
      "metadata": {
        "id": "h_FdMk-SpMc_",
        "colab_type": "text"
      },
      "source": [
        "## Reto #2 - Más allá del cuarenta y dos\n",
        "\n",
        "Crea un código que pida al usuario un número y se repita hasta que coloque un número mayor a 42. Cuando se cumpla esta condición muestra el resultado en pantalla indicando esto al usuario y finaliza el ciclo."
      ]
    },
    {
      "cell_type": "code",
      "metadata": {
        "id": "vA7PoZawpR1v",
        "colab_type": "code",
        "colab": {
          "base_uri": "https://localhost:8080/",
          "height": 50
        },
        "outputId": "12066dd7-f8f4-4613-e1bc-c65ed5fb899e"
      },
      "source": [
        "max = 42\n",
        "numero_de_usuario = 0\n",
        "while numero_de_usuario < max:\n",
        "  numero_de_usuario = int(input(\"Ingresa un número para compararlo con el máximo: \\n\"))\n",
        "  \n",
        "  "
      ],
      "execution_count": 18,
      "outputs": [
        {
          "output_type": "stream",
          "text": [
            "Ingresa un número para compararlo con el máximo: \n",
            "50\n"
          ],
          "name": "stdout"
        }
      ]
    },
    {
      "cell_type": "markdown",
      "metadata": {
        "id": "sJA6nJASsnE3",
        "colab_type": "text"
      },
      "source": [
        "## Reto #3 - Sumas consecutivas\n",
        "\n",
        "Pide al usuario que ingrese dos números y los sume. Después pregunta si quiere añadir otro número: si la respuesta es afirmativa añádelo al total; en caso contrario finaliza el ciclo y muestra el resultado total en pantalla."
      ]
    },
    {
      "cell_type": "code",
      "metadata": {
        "id": "JOFqgoNFtDG8",
        "colab_type": "code",
        "colab": {
          "base_uri": "https://localhost:8080/",
          "height": 133
        },
        "outputId": "d9fe0052-4db2-4537-d64b-dbe960ae0584"
      },
      "source": [
        "list_of_numbers = []\n",
        "n1 = int(input(\"Ingresa el primer número a sumar: \\n\"))\n",
        "n2 = int(input(\"Ingresa el segundo número a sumar: \\n\"))\n",
        "\n",
        "list_of_numbers.append(n1)\n",
        "list_of_numbers.append(n2)\n",
        "\n",
        "while len(list_of_numbers) == 2:\n",
        "  ask_to_user = input(\"¿Quieres agregar otro número a tu suma? \\n\")\n",
        "  ask_to_user.lower()\n",
        "  if ask_to_user == 'si':\n",
        "    n3 = int(input(\"Ingresa el tercer número a sumar: \\n\"))\n",
        "    list_of_numbers.append(n3)\n",
        "    result = list_of_numbers[0] + list_of_numbers[1] + list_of_numbers[2]\n",
        "  else:\n",
        "    result = list_of_numbers[0] + list_of_numbers[1]\n",
        "    break\n",
        "\n",
        "print(result)"
      ],
      "execution_count": 24,
      "outputs": [
        {
          "output_type": "stream",
          "text": [
            "Ingresa el primer número a sumar: \n",
            "2\n",
            "Ingresa el segundo número a sumar: \n",
            "1\n",
            "¿Quieres agregar otro número a tu suma? \n",
            "no\n",
            "3\n"
          ],
          "name": "stdout"
        }
      ]
    },
    {
      "cell_type": "markdown",
      "metadata": {
        "id": "6o_ZVSqsyL6A",
        "colab_type": "text"
      },
      "source": [
        "## Reto #4 - Lista de invitados\n",
        "\n",
        "Estás organizando un banquete al que quieres invitar a tus amigos. Crea un programa que pida el nombre de uno de tus amigos, al hacerlo aumenta en uno una variable contadora, después pregunta si quieres invitar a alguien más: si la respuesta es afirmativa entonces pregunta por una persona más; en caso contrario cierra el ciclo y muestra en pantalla cuantos invitados son."
      ]
    }
  ]
}