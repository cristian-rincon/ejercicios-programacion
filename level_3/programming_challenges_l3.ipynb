{
 "cells": [
  {
   "cell_type": "markdown",
   "metadata": {
    "colab_type": "text",
    "id": "view-in-github"
   },
   "source": [
    "<a href=\"https://colab.research.google.com/github/cristian-rincon/ejercicios-programacion/blob/master/level_3/programming_challenges_l3.ipynb\" target=\"_parent\"><img src=\"https://colab.research.google.com/assets/colab-badge.svg\" alt=\"Open In Colab\"/></a>"
   ]
  },
  {
   "cell_type": "markdown",
   "metadata": {
    "colab_type": "text",
    "id": "ZN6QvNDSwvun"
   },
   "source": [
    "# Ejercicios de Programación - Nivel 3"
   ]
  },
  {
   "cell_type": "markdown",
   "metadata": {
    "colab_type": "text",
    "id": "ZaX-1YgnQvAS"
   },
   "source": [
    "## Reto #1 - Longitud del string\n",
    "\n",
    "Pide a tu usuario que ingrese el nombre de su curso favorito, \n",
    "obtén la longitud de ese string y muéstralo en pantalla."
   ]
  },
  {
   "cell_type": "code",
   "execution_count": 40,
   "metadata": {
    "colab": {
     "base_uri": "https://localhost:8080/",
     "height": 85
    },
    "colab_type": "code",
    "id": "n7XsPRjgRRqF",
    "outputId": "eeed85c5-8b54-4095-b88a-8fcf217a5130"
   },
   "outputs": [
    {
     "name": "stdout",
     "output_type": "stream",
     "text": [
      "Nombra tu curso favorito de platzi:\n",
      "devops\n",
      "Genial, Tu curso favorito es Devops.\n",
      "El nombre del curso tiene una longiud de 6 caracteres.\n"
     ]
    }
   ],
   "source": [
    "def favourite_course(fav_course: str) -> int:\n",
    "    \"\"\"Recibe el nombre del curso favorito del usuario\n",
    "    y retorna el tamaño de ese string.\n",
    "\n",
    "    :type fav_course: str\n",
    "    :param fav_course: Nombre del curso favorito del usuario.\n",
    "    \"\"\"\n",
    "\n",
    "    len_fav_course = len(fav_course)\n",
    "    return len_fav_course\n",
    "\n",
    "\n",
    "fav_course = input(\"Nombra tu curso favorito de platzi:\\n\")\n",
    "print(f\"Genial, Tu curso favorito es {fav_course.capitalize()}.\")\n",
    "result = favourite_course(fav_course)\n",
    "print(f\"El nombre del curso tiene una longiud de {result} caracteres.\")"
   ]
  },
  {
   "cell_type": "markdown",
   "metadata": {
    "colab_type": "text",
    "id": "eR5QB0ICRslm"
   },
   "source": [
    "## Reto #2 \"Suma\" de strings\n",
    "\n",
    "Crea un programa en el que le pidas en 3 variables distintas: \n",
    "nombre, apellido y comida favorita. Como salida mostrarás el \n",
    "mensaje Hola, mi nombres es {nombre} {apellido} y mi comida \n",
    "favorita es {comida} en un solo string."
   ]
  },
  {
   "cell_type": "code",
   "execution_count": 42,
   "metadata": {
    "colab": {
     "base_uri": "https://localhost:8080/",
     "height": 136
    },
    "colab_type": "code",
    "id": "g7A7NPMGR56H",
    "outputId": "01c93292-6fec-4202-bb92-9159e7af8270"
   },
   "outputs": [
    {
     "name": "stdout",
     "output_type": "stream",
     "text": [
      "¿Cual es tu nombre?\n",
      "cristian\n",
      "¿Cual es tu apellido?\n",
      "rincon\n",
      "¿Cual es tu comida favorita?\n",
      "lasagna\n",
      "Hola, mi nombre es Cristian Rincon y mi comida favorita es Lasagna\n"
     ]
    }
   ],
   "source": [
    "def sum_of_strings(name: str, lastname: str, fav_food: str):\n",
    "    \"\"\"Recibe nombre, apellido y comida favorita, combina las \n",
    "    cadenas de texto, aplica capitalize() a nombre y apellido \n",
    "    y retorna un mensaje predeterminado.\n",
    "\n",
    "    Returns:\n",
    "        [type]: [description]\n",
    "    \"\"\"\n",
    "\n",
    "    message = print(\n",
    "        f\"Hola, mi nombre es {name.capitalize()} {lastname.capitalize()} y mi comida favorita es {fav_food.capitalize()}\"\n",
    "    )\n",
    "\n",
    "    return message\n",
    "\n",
    "\n",
    "name = input(\"¿Cual es tu nombre?\\n\")\n",
    "lastname = input(\"¿Cual es tu apellido?\\n\")\n",
    "fav_food = input(\"¿Cual es tu comida favorita?\\n\")\n",
    "sum_of_strings(name, lastname, fav_food)"
   ]
  },
  {
   "cell_type": "markdown",
   "metadata": {
    "colab_type": "text",
    "id": "EgRy3LXvl_Cf"
   },
   "source": [
    "## Reto #3 Ajusta las iniciales\n",
    "\n",
    "Ahora, pedirás a tu usuario que ingrese su nombre, apellido y país de origen en minúsculas. Después mostrarás los datos de salida con mayúscula inicial al tratarse de nombres propios.\n"
   ]
  },
  {
   "cell_type": "code",
   "execution_count": 21,
   "metadata": {
    "colab": {
     "base_uri": "https://localhost:8080/",
     "height": 85
    },
    "colab_type": "code",
    "id": "WsuB2aczk5Bp",
    "outputId": "02b86d41-a197-49d4-da03-7834b402f7e8"
   },
   "outputs": [
    {
     "name": "stdout",
     "output_type": "stream",
     "text": [
      "¿Cual es tu nombre? cristian\n",
      "¿Cual es tu apellido? rincón\n",
      "¿De qué país eres? colombia\n",
      "Hola Cristian Rincón, veo que eres de Colombia. Yo soy de Colombia.\n"
     ]
    }
   ],
   "source": [
    "def capitalize_sample(name, lastname, country):\n",
    "    message = print(f\"Hola {name.capitalize()} {lastname.capitalize()}, veo que eres de {country.capitalize()}. Yo soy de Colombia.\")\n",
    "    return message\n",
    "\n",
    "name = input(\"¿Cual es tu nombre? \")\n",
    "lastname = input(\"¿Cual es tu apellido? \")\n",
    "country = input(\"¿De qué país eres? \")\n",
    "\n",
    "capitalize_sample(name,lastname,country)"
   ]
  },
  {
   "cell_type": "markdown",
   "metadata": {
    "colab_type": "text",
    "id": "itGe_yRnnnL5"
   },
   "source": [
    "## Reto #4 String fragmentado\n",
    "\n",
    "* Pongámonos más exigentes 💥\n",
    "\n",
    "Solicita a tu usuario que indique una oración de 10 o más caracteres, la línea de un poema o canción funciona excelente. Calcula la longitud del string, pide un número de rango inicial y final que esté entre la longitud del string para al final mostrar el fragmento que incluya los caracteres en ese intervalo."
   ]
  },
  {
   "cell_type": "code",
   "execution_count": 19,
   "metadata": {
    "colab": {
     "base_uri": "https://localhost:8080/",
     "height": 102
    },
    "colab_type": "code",
    "id": "69z19A7Hnx3p",
    "outputId": "b993550e-57cb-458e-bf47-503003de8f5a"
   },
   "outputs": [
    {
     "name": "stdout",
     "output_type": "stream",
     "text": [
      "Indica una frase u oración de mínimo 10 caracteres: Mi nombre es Cristian, soy programador y mi lenguaje favorito es Python\n",
      "La frase que envías tiene 71 caracteres\n",
      "Indica desde donde quieres ver la cadena de caracteres: \n",
      "Indica hasta donde quieres ver la cadena de caracteres: \n",
      "Mi nombre es Cristian, soy programador y mi lenguaje favorito es Python\n"
     ]
    }
   ],
   "source": [
    "def fragmented_string(sentence, min_range, max_range):\n",
    "\n",
    "    if min_range == '':\n",
    "      min_range = 0\n",
    "    if max_range == '':\n",
    "      max_range = len(sentence)\n",
    "    \n",
    "    response_sentence = print(sentence[min_range:max_range])\n",
    "\n",
    "    return response_sentence\n",
    "\n",
    "\n",
    "\n",
    "sentence = input(\"Indica una frase u oración de mínimo 10 caracteres: \")\n",
    "# Test sentence\n",
    "# Mi nombre es Cristian, soy programador y mi lenguaje favorito es Python\n",
    "if len(sentence) >= 10:\n",
    "    print(f\"La frase que envías tiene {len(sentence)} caracteres\")\n",
    "    min_range = input(\"Indica desde donde quieres ver la cadena de caracteres: \")\n",
    "    max_range = input(\"Indica hasta donde quieres ver la cadena de caracteres: \")\n",
    "\n",
    "    fragmented_string(sentence,min_range,max_range)\n",
    "else:\n",
    "    print(f\"La frase que envías no tiene la cantidad mínima de caracteres solicitada. Intenta nuevamente\")\n"
   ]
  },
  {
   "cell_type": "markdown",
   "metadata": {
    "colab_type": "text",
    "id": "7Px0dexYxedW"
   },
   "source": [
    "## Reto #5 Mayúsculas y minúsculas\n",
    "\n",
    "Solicita a tu usuario que indique 2 palabras, donde al mostrarlas en pantalla una estará totalmente en mayúsculas y otra en minúsculas.\n",
    "\n",
    "¿fácil, no?\n"
   ]
  },
  {
   "cell_type": "code",
   "execution_count": 25,
   "metadata": {
    "colab": {
     "base_uri": "https://localhost:8080/",
     "height": 68
    },
    "colab_type": "code",
    "id": "uKNSyRRho4Ee",
    "outputId": "0a79cf34-2694-425c-d31a-7d216f99edbd"
   },
   "outputs": [
    {
     "name": "stdout",
     "output_type": "stream",
     "text": [
      "Indica la primera palabra: hola\n",
      "Indica la segunda palabra: mundo\n",
      "('HOLA', 'mundo')\n"
     ]
    }
   ],
   "source": [
    "def transform_words(word1,word2):\n",
    "    word1 = word1.upper()\n",
    "    word2 = word2.lower()\n",
    "    message = word1,word2\n",
    "    return message\n",
    "\n",
    "word1 = input(\"Indica la primera palabra: \")\n",
    "word2 = input(\"Indica la segunda palabra: \")\n",
    "\n",
    "print(transform_words(word1,word2))"
   ]
  },
  {
   "cell_type": "markdown",
   "metadata": {
    "colab_type": "text",
    "id": "5e7iL7YbzUjN"
   },
   "source": [
    "## Reto #6 Nombres cortos y largos\n",
    "\n",
    "* Ya sabemos trabajar con nombres ¿pero qué pasa si cumple ciertas cualidades?\n",
    "\n",
    "Tu usuario ingresará su nombre, si tiene una longitud mayor a 5 caracteres mostrarás un saludo con su nombre en pantalla. Si tiene menos de 5 caracteres, pedirás su apellido, mostrarás el saludo con nombre y apellido. En ambos casos deberás mostrarlos con mayúscula inicial."
   ]
  },
  {
   "cell_type": "code",
   "execution_count": 29,
   "metadata": {
    "colab": {
     "base_uri": "https://localhost:8080/",
     "height": 68
    },
    "colab_type": "code",
    "id": "KBtM7d_dzQkB",
    "outputId": "b8eeb22b-f271-46ac-b57a-4d60ab62b1b4"
   },
   "outputs": [
    {
     "name": "stdout",
     "output_type": "stream",
     "text": [
      "¿Cual es tu nombre?\n",
      "Cristian\n",
      "Hola, Cristian\n"
     ]
    }
   ],
   "source": [
    "name = input(\"¿Cual es tu nombre?\\n\")\n",
    "\n",
    "if len(name) >= 5:\n",
    "  print(f\"Hola, {name.capitalize()}\")\n",
    "else:\n",
    "  lastname = input(\"¿Cual es tu apellido?\\n\")\n",
    "  print(f\"Hola, {name.capitalize()}, {lastname.capitalize()}\")\n"
   ]
  },
  {
   "cell_type": "markdown",
   "metadata": {
    "colab_type": "text",
    "id": "ELy5aqAq0pJA"
   },
   "source": [
    "## Reto #7 ¡Hablemos Pig Latin! (Puerco Latino) 🐷\n",
    "\n",
    "* Solo una cosa, pide a tu usuario que ingrese una palabra y tradúcela a Pig Latin.\n",
    "\n",
    "* PuercoLatino es como el idioma de la “efe”, donde cambiamos las palabras bajo ciertas condiciones. En este caso será así:\n",
    "\n",
    "* La primer consonante de una palabra se pasa al final y se agrega la sílaba “ay”.\n",
    "\n",
    "* Si una palabra inicia con vocal, se agrega “way” al final.\n",
    "\n",
    "Ejemplos:\n",
    "\n",
    "    Platzi 👉 Latzipay\n",
    "    Abeja 👉 Abejaway"
   ]
  },
  {
   "cell_type": "code",
   "execution_count": 36,
   "metadata": {
    "colab": {
     "base_uri": "https://localhost:8080/",
     "height": 68
    },
    "colab_type": "code",
    "id": "vGtYRwQZD2RB",
    "outputId": "68e3ba59-2553-45c5-f047-abc7e18fa36a"
   },
   "outputs": [
    {
     "name": "stdout",
     "output_type": "stream",
     "text": [
      "Dime una palabra y la convertiré en Pig Latin:\n",
      "gato\n",
      "Atogay\n"
     ]
    }
   ],
   "source": [
    "import re\n",
    "\n",
    "def pig_latin(word):\n",
    "    if_vowel = \"way\"\n",
    "    if_consonant = \"ay\"\n",
    "    word_to_translate = word\n",
    "    vowel = re.search(\"^[aeiouAEIOU]\", word_to_translate)\n",
    "\n",
    "    if vowel:\n",
    "        final_word = word_to_translate + if_vowel\n",
    "        print(final_word.capitalize())\n",
    "    else:\n",
    "        first_letter = word_to_translate[0]\n",
    "        final_word = word_to_translate[1:] + first_letter + if_consonant\n",
    "        print(final_word.capitalize())\n",
    "\n",
    "\n",
    "word = input(\"Dime una palabra y la convertiré en Pig Latin:\\n\")\n",
    "\n",
    "pig_latin(word)\n"
   ]
  }
 ],
 "metadata": {
  "colab": {
   "authorship_tag": "ABX9TyN68J6DroDtcxI8BW9kl3dp",
   "collapsed_sections": [],
   "include_colab_link": true,
   "name": "programming_challenges_l3.ipynb",
   "provenance": []
  },
  "kernelspec": {
   "display_name": "Python 3",
   "language": "python",
   "name": "python3"
  },
  "language_info": {
   "codemirror_mode": {
    "name": "ipython",
    "version": 3
   },
   "file_extension": ".py",
   "mimetype": "text/x-python",
   "name": "python",
   "nbconvert_exporter": "python",
   "pygments_lexer": "ipython3",
   "version": "3.8.2"
  }
 },
 "nbformat": 4,
 "nbformat_minor": 4
}
