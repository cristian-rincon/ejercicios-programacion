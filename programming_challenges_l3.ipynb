{
  "nbformat": 4,
  "nbformat_minor": 0,
  "metadata": {
    "colab": {
      "name": "programming_challenges_l3.ipynb",
      "provenance": [],
      "collapsed_sections": [],
      "authorship_tag": "ABX9TyM3Jl8Lo2Q+IgCau07pSYHt",
      "include_colab_link": true
    },
    "kernelspec": {
      "name": "python3",
      "display_name": "Python 3"
    }
  },
  "cells": [
    {
      "cell_type": "markdown",
      "metadata": {
        "id": "view-in-github",
        "colab_type": "text"
      },
      "source": [
        "<a href=\"https://colab.research.google.com/github/cristian-rincon/ejercicios-programacion/blob/master/programming_challenges_l3.ipynb\" target=\"_parent\"><img src=\"https://colab.research.google.com/assets/colab-badge.svg\" alt=\"Open In Colab\"/></a>"
      ]
    },
    {
      "cell_type": "markdown",
      "metadata": {
        "id": "ZN6QvNDSwvun",
        "colab_type": "text"
      },
      "source": [
        "# Ejercicios de Programación - Nivel 3"
      ]
    },
    {
      "cell_type": "markdown",
      "metadata": {
        "id": "EgRy3LXvl_Cf",
        "colab_type": "text"
      },
      "source": [
        "## Reto #3 Ajusta las iniciales\n",
        "\n",
        "Ahora, pedirás a tu usuario que ingrese su nombre, apellido y país de origen en minúsculas. Después mostrarás los datos de salida con mayúscula inicial al tratarse de nombres propios."
      ]
    },
    {
      "cell_type": "code",
      "metadata": {
        "id": "WsuB2aczk5Bp",
        "colab_type": "code",
        "colab": {
          "base_uri": "https://localhost:8080/",
          "height": 85
        },
        "outputId": "02b86d41-a197-49d4-da03-7834b402f7e8"
      },
      "source": [
        "def capitalize_sample(name, lastname, country):\n",
        "    message = print(f\"Hola {name.capitalize()} {lastname.capitalize()}, veo que eres de {country.capitalize()}. Yo soy de Colombia.\")\n",
        "    return message\n",
        "\n",
        "name = input(\"¿Cual es tu nombre? \")\n",
        "lastname = input(\"¿Cual es tu apellido? \")\n",
        "country = input(\"¿De qué país eres? \")\n",
        "\n",
        "capitalize_sample(name,lastname,country)"
      ],
      "execution_count": 21,
      "outputs": [
        {
          "output_type": "stream",
          "text": [
            "¿Cual es tu nombre? cristian\n",
            "¿Cual es tu apellido? rincón\n",
            "¿De qué país eres? colombia\n",
            "Hola Cristian Rincón, veo que eres de Colombia. Yo soy de Colombia.\n"
          ],
          "name": "stdout"
        }
      ]
    },
    {
      "cell_type": "markdown",
      "metadata": {
        "id": "itGe_yRnnnL5",
        "colab_type": "text"
      },
      "source": [
        "## Reto #4 String fragmentado\n",
        "\n",
        ">Pongámonos más exigentes 💥\n",
        "\n",
        "Solicita a tu usuario que indique una oración de 10 o más caracteres, la línea de un poema o canción funciona excelente. Calcula la longitud del string, pide un número de rango inicial y final que esté entre la longitud del string para al final mostrar el fragmento que incluya los caracteres en ese intervalo."
      ]
    },
    {
      "cell_type": "code",
      "metadata": {
        "id": "69z19A7Hnx3p",
        "colab_type": "code",
        "colab": {
          "base_uri": "https://localhost:8080/",
          "height": 102
        },
        "outputId": "b993550e-57cb-458e-bf47-503003de8f5a"
      },
      "source": [
        "def fragmented_string(sentence, min_range, max_range):\n",
        "\n",
        "    if min_range == '':\n",
        "      min_range = 0\n",
        "    if max_range == '':\n",
        "      max_range = len(sentence)\n",
        "    \n",
        "    response_sentence = print(sentence[min_range:max_range])\n",
        "\n",
        "    return response_sentence\n",
        "\n",
        "\n",
        "\n",
        "sentence = input(\"Indica una frase u oración de mínimo 10 caracteres: \")\n",
        "# Test sentence\n",
        "# Mi nombre es Cristian, soy programador y mi lenguaje favorito es Python\n",
        "if len(sentence) >= 10:\n",
        "    print(f\"La frase que envías tiene {len(sentence)} caracteres\")\n",
        "    min_range = input(\"Indica desde donde quieres ver la cadena de caracteres: \")\n",
        "    max_range = input(\"Indica hasta donde quieres ver la cadena de caracteres: \")\n",
        "\n",
        "    fragmented_string(sentence,min_range,max_range)\n",
        "else:\n",
        "    print(f\"La frase que envías no tiene la cantidad mínima de caracteres solicitada. Intenta nuevamente\")\n"
      ],
      "execution_count": 19,
      "outputs": [
        {
          "output_type": "stream",
          "text": [
            "Indica una frase u oración de mínimo 10 caracteres: Mi nombre es Cristian, soy programador y mi lenguaje favorito es Python\n",
            "La frase que envías tiene 71 caracteres\n",
            "Indica desde donde quieres ver la cadena de caracteres: \n",
            "Indica hasta donde quieres ver la cadena de caracteres: \n",
            "Mi nombre es Cristian, soy programador y mi lenguaje favorito es Python\n"
          ],
          "name": "stdout"
        }
      ]
    },
    {
      "cell_type": "code",
      "metadata": {
        "id": "uKNSyRRho4Ee",
        "colab_type": "code",
        "colab": {}
      },
      "source": [
        ""
      ],
      "execution_count": null,
      "outputs": []
    }
  ]
}