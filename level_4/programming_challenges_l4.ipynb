{
  "nbformat": 4,
  "nbformat_minor": 0,
  "metadata": {
    "colab": {
      "name": "programming_challenges_l4.ipynb",
      "provenance": [],
      "authorship_tag": "ABX9TyNyrnygFF86LIwqIlTTy6UO",
      "include_colab_link": true
    },
    "kernelspec": {
      "name": "python3",
      "display_name": "Python 3"
    }
  },
  "cells": [
    {
      "cell_type": "markdown",
      "metadata": {
        "id": "view-in-github",
        "colab_type": "text"
      },
      "source": [
        "<a href=\"https://colab.research.google.com/github/cristian-rincon/ejercicios-programacion/blob/master/level_4/programming_challenges_l4.ipynb\" target=\"_parent\"><img src=\"https://colab.research.google.com/assets/colab-badge.svg\" alt=\"Open In Colab\"/></a>"
      ]
    },
    {
      "cell_type": "markdown",
      "metadata": {
        "id": "EjdKenNV5RUK",
        "colab_type": "text"
      },
      "source": [
        "# Ejercicios de Programación - Nivel 4 | Matemáticas"
      ]
    },
    {
      "cell_type": "markdown",
      "metadata": {
        "id": "oilLrv9t5Xp5",
        "colab_type": "text"
      },
      "source": [
        "## Reto #1 - Multiplicar decimales\n",
        "\n",
        "Pide a tu usuario que ingrese 2 números con decimales (cuantos más mejor) y muestra el resultado de multiplicarlos ¿fácil, no?"
      ]
    },
    {
      "cell_type": "code",
      "metadata": {
        "id": "JqeMaKup44EN",
        "colab_type": "code",
        "colab": {
          "base_uri": "https://localhost:8080/",
          "height": 102
        },
        "outputId": "5a57b042-b5e6-4686-895e-e9181c514387"
      },
      "source": [
        "def multiply_decimals(a:float,b:float):\n",
        "    return float(a * b)\n",
        "\n",
        "a = float(input(\"Ingresa el primer número con decimales a multiplicar\\n\"))\n",
        "b = float(input(\"Ingresa el segundo número con decimales a multiplicar\\n\"))\n",
        "\n",
        "print(multiply_decimals(a,b))"
      ],
      "execution_count": 5,
      "outputs": [
        {
          "output_type": "stream",
          "text": [
            "Ingresa el primer número con decimales a multiplicar\n",
            "5.5\n",
            "Ingresa el segundo número con decimales a multiplicar\n",
            "6.5\n",
            "35.75\n"
          ],
          "name": "stdout"
        }
      ]
    },
    {
      "cell_type": "markdown",
      "metadata": {
        "id": "i2mXBOkI656B",
        "colab_type": "text"
      },
      "source": [
        "## Reto #2 - Reducir los decimales\n",
        "Toma como base el reto anterior, pero ajústalo para que el resultado muestre solamente 1, 2, 3 o 4 decimales."
      ]
    },
    {
      "cell_type": "code",
      "metadata": {
        "id": "wPWgpuA-6xEj",
        "colab_type": "code",
        "colab": {
          "base_uri": "https://localhost:8080/",
          "height": 102
        },
        "outputId": "255c4ffe-b731-4955-c322-fb0e9ae69f75"
      },
      "source": [
        "a = float(input(\"Ingresa el primer número con decimales a multiplicar\\n\"))\n",
        "b = float(input(\"Ingresa el segundo número con decimales a multiplicar\\n\"))\n",
        "\n",
        "print(round(multiply_decimals(a,b),3))"
      ],
      "execution_count": 7,
      "outputs": [
        {
          "output_type": "stream",
          "text": [
            "Ingresa el primer número con decimales a multiplicar\n",
            "45.5555555\n",
            "Ingresa el segundo número con decimales a multiplicar\n",
            "53.44444444\n",
            "2434.691\n"
          ],
          "name": "stdout"
        }
      ]
    },
    {
      "cell_type": "markdown",
      "metadata": {
        "id": "HPD9qHk78FAd",
        "colab_type": "text"
      },
      "source": [
        "## Reto #3 - Raíces cuadradas redondeadas\n",
        "\n",
        "Pide a tu usuario que ingrese un número, cuyo valor debe ser mayor a 20, luego calcula su raíz cuadrada y reduce a 2 o 3 decimales el resultado final."
      ]
    },
    {
      "cell_type": "code",
      "metadata": {
        "id": "fhq9BKPs8JMv",
        "colab_type": "code",
        "colab": {
          "base_uri": "https://localhost:8080/",
          "height": 68
        },
        "outputId": "48cf7272-acad-4d43-9382-dd104d0d1107"
      },
      "source": [
        "import math\n",
        "\n",
        "a = int(input(\"Ingresa un número mayor a 20:\\n\"))\n",
        "round(math.sqrt(a),3)"
      ],
      "execution_count": 10,
      "outputs": [
        {
          "output_type": "stream",
          "text": [
            "Ingresa un número mayor a 20:\n",
            "50\n"
          ],
          "name": "stdout"
        },
        {
          "output_type": "execute_result",
          "data": {
            "text/plain": [
              "7.071"
            ]
          },
          "metadata": {
            "tags": []
          },
          "execution_count": 10
        }
      ]
    },
    {
      "cell_type": "markdown",
      "metadata": {
        "id": "brQ7WZEs9auo",
        "colab_type": "text"
      },
      "source": [
        "## Reto #4 - Calcular área de un círculo\n",
        "\n",
        "Solicita a tu usuario que ingrese un número el cual será el radio de un círculo y con este dato calcula el área de un círculo.\n",
        "\n",
        "Si tu lenguaje cuenta con librerías específicas para este propósito haz uso de las mismas."
      ]
    },
    {
      "cell_type": "code",
      "metadata": {
        "id": "oXKnkjZl9i80",
        "colab_type": "code",
        "colab": {
          "base_uri": "https://localhost:8080/",
          "height": 68
        },
        "outputId": "91520c47-a60b-40cc-9c67-fe9351496802"
      },
      "source": [
        "pi = math.pi\n",
        "\n",
        "radius = int(input(\"Ingresa el radio del círculo a calcular:\\n\"))\n",
        "circle_area = (radius ** 2) * pi\n",
        "\n",
        "print(f\"El área del circulo es: {circle_area}\")"
      ],
      "execution_count": 13,
      "outputs": [
        {
          "output_type": "stream",
          "text": [
            "Ingresa el radio del círculo a calcular:\n",
            "5\n",
            "El área del circulo es: 78.53981633974483\n"
          ],
          "name": "stdout"
        }
      ]
    },
    {
      "cell_type": "markdown",
      "metadata": {
        "id": "Yi-37_eiCJSp",
        "colab_type": "text"
      },
      "source": [
        "## Reto #5 - Calcular volumen de un cilindro\n",
        "\n",
        "Pide a tu usuario que indique el radio y la profundidad de un cilindro. Después aplica la fórmula correspondiente para calcular el volumen del cilindro y reduce el resultado a un solo decimal."
      ]
    },
    {
      "cell_type": "code",
      "metadata": {
        "colab_type": "code",
        "id": "IKSv-SZzCYza",
        "colab": {
          "base_uri": "https://localhost:8080/",
          "height": 102
        },
        "outputId": "fdfe6719-d4a9-48d4-9b91-56cc5de14d4b"
      },
      "source": [
        "pi = math.pi\n",
        "\n",
        "radius = int(input(\"Ingresa el radio del cilindro a calcular:\\n\"))\n",
        "h = int(input(\"Ingresa la altura del cilindro a calcular:\\n\"))\n",
        "\n",
        "cylinder_area = pi * (radius ** 2) * h\n",
        "\n",
        "print(f\"El volumen del cilindro es: {round(cylinder_area,3)}\")"
      ],
      "execution_count": 16,
      "outputs": [
        {
          "output_type": "stream",
          "text": [
            "Ingresa el radio del cilindro a calcular:\n",
            "5\n",
            "Ingresa la altura del cilindro a calcular:\n",
            "9\n",
            "El volumen del cilindro es: 706.858\n"
          ],
          "name": "stdout"
        }
      ]
    },
    {
      "cell_type": "markdown",
      "metadata": {
        "id": "PDCLxnvMEHEn",
        "colab_type": "text"
      },
      "source": [
        "## Reto #6 - Mostrar enteros y residuos\n",
        "\n",
        "Pide al usuario que ingrese 2 números, divídelos, muestra un resultado como enteros y además el residuo por separado de una forma que seal fácil de entender al usuario.\n",
        "\n",
        "Por ejemplo: “9 dividido entre 2 es 4 y sobra 1”."
      ]
    },
    {
      "cell_type": "code",
      "metadata": {
        "id": "JdIFSiYFEMmF",
        "colab_type": "code",
        "colab": {
          "base_uri": "https://localhost:8080/",
          "height": 102
        },
        "outputId": "0292e77a-52c9-4ff6-ab08-511b26c0ce8b"
      },
      "source": [
        "num1 = int(input(\"Ingresa el divisor:\\n\"))\n",
        "num2 = int(input(\"Ingresa el dividendo:\\n\"))\n",
        "\n",
        "residue = num1 % num2\n",
        "div_result = math.floor(num1 / num2)\n",
        "\n",
        "print(f\">>> {num1} dividido entre {num2} es {div_result} y sobra {residue}\")"
      ],
      "execution_count": 21,
      "outputs": [
        {
          "output_type": "stream",
          "text": [
            "Ingresa el divisor:\n",
            "10\n",
            "Ingresa el dividendo:\n",
            "3\n",
            ">>> 10 dividido entre 3 es 3 y sobra 1\n"
          ],
          "name": "stdout"
        }
      ]
    },
    {
      "cell_type": "markdown",
      "metadata": {
        "id": "lCqE_A_WGCu5",
        "colab_type": "text"
      },
      "source": [
        "## Reto #7 - Calcular perímetros y áreas\n",
        "\n",
        "Muestra un menú con distintas figuras geométricas, por lo menos 3 diferentes (triángulo, cuadrado, pentágono, etc.)\n",
        "\n",
        "Tu usuario debe poder elegir alguna de estas figuras, indicar la distancia de sus lados y mostrar como resultado tanto el perímetro como el área de dicha figura."
      ]
    },
    {
      "cell_type": "code",
      "metadata": {
        "id": "EzpsfmZQGsQH",
        "colab_type": "code",
        "colab": {
          "base_uri": "https://localhost:8080/",
          "height": 204
        },
        "outputId": "85480ad4-845d-4b93-cf0e-e013e9382129"
      },
      "source": [
        "options = ['🔺','🟩','🔵']\n",
        "\n",
        "print(\"Selecciona la figura a la cual quieres calcularle el perímetro y el área\")\n",
        "print(\"\"\"\n",
        "[1] 🔺\n",
        "[2] 🟩 \n",
        "[3] 🔵\n",
        "\"\"\")\n",
        "\n",
        "num_options = int(input())\n",
        "\n",
        "if num_options == 1:\n",
        "  print(f\"Seleccionaste el {options[0]}\")\n",
        "  side = float(input(\"Ingresa la distancia del lado:\"))\n",
        "  floor = side\n",
        "  perimeter = (side * 2) + floor\n",
        "  area = floor * (side/2) ** 2\n",
        "  print(f\"El perímetro de tu triángulo es {perimeter} y su área es de {area}\")\n",
        "elif num_options == 2:\n",
        "  print(f\"Seleccionaste el {options[1]}\")\n",
        "  side = int(input(\"Ingresa la distancia del lado:\"))\n",
        "  perimeter = side ** 2 \n",
        "  area = side * side\n",
        "  print(f\"El perímetro de tu cuadrado es {perimeter} y su área es de {area}\")\n",
        "elif num_options == 3:\n",
        "  print(f\"Seleccionaste el {options[2]}\") \n",
        "  radius = float(input(\"Ingresa el radio del circulo a calcular:\\n\"))\n",
        "  perimeter = (2 * math.pi) * radius\n",
        "  area = math.pi * (radius ** 2)\n",
        "  print(f\"El perímetro de tu circulo es {round(perimeter,3)} y su área es de {round(area,3)}\")\n",
        "\n",
        "\n",
        "\n"
      ],
      "execution_count": 35,
      "outputs": [
        {
          "output_type": "stream",
          "text": [
            "Selecciona la figura a la cual quieres calcularle el perímetro y el área\n",
            "\n",
            "[1] 🔺\n",
            "[2] 🟩 \n",
            "[3] 🔵\n",
            "\n",
            "3\n",
            "Seleccionaste el 🔵\n",
            "Ingresa el radio del circulo a calcular:\n",
            "5\n",
            "El perímetro de tu circulo es 31.416 y su área es de 78.54\n"
          ],
          "name": "stdout"
        }
      ]
    }
  ]
}